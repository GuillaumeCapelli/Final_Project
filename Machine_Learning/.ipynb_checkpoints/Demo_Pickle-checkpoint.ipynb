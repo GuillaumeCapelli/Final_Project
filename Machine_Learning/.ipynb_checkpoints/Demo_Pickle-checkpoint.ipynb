{
 "cells": [
  {
   "cell_type": "code",
   "execution_count": 8,
   "id": "97b17f56",
   "metadata": {},
   "outputs": [],
   "source": [
    "import pandas as pd\n",
    "from sklearn.feature_extraction.text import TfidfVectorizer"
   ]
  },
  {
   "cell_type": "code",
   "execution_count": 4,
   "id": "d55dfd43",
   "metadata": {},
   "outputs": [],
   "source": [
    "# Loading the Jigsaw challenge training data\n",
    "train_file_path = 'train_clean.csv'\n",
    "train_df = pd.read_csv(train_file_path)"
   ]
  },
  {
   "cell_type": "code",
   "execution_count": 5,
   "id": "28080c9f",
   "metadata": {},
   "outputs": [],
   "source": [
    "# Create an additional category for comments with no toxic labels\n",
    "train_df['non_toxic'] = (train_df[['toxic', 'severe_toxic', 'obscene', 'threat', 'insult', 'identity_hate']].sum(axis=1) == 0).astype(int)"
   ]
  },
  {
   "cell_type": "code",
   "execution_count": 10,
   "id": "64906125",
   "metadata": {},
   "outputs": [],
   "source": [
    "# Preprocessing: Vectorizing the text data using TF-IDF\n",
    "tfidf_vectorizer = TfidfVectorizer(max_features=5000)\n",
    "X = tfidf_vectorizer.fit_transform(train_df['comment'])\n",
    "y = train_df[['toxic', 'severe_toxic', 'obscene', 'threat', 'insult', 'identity_hate']]"
   ]
  },
  {
   "cell_type": "code",
   "execution_count": 14,
   "id": "63917c61",
   "metadata": {},
   "outputs": [
    {
     "data": {
      "text/plain": [
       "<159571x5000 sparse matrix of type '<class 'numpy.float64'>'\n",
       "\twith 5926788 stored elements in Compressed Sparse Row format>"
      ]
     },
     "execution_count": 14,
     "metadata": {},
     "output_type": "execute_result"
    }
   ],
   "source": [
    "X"
   ]
  },
  {
   "cell_type": "code",
   "execution_count": 1,
   "id": "eee1bd5d",
   "metadata": {},
   "outputs": [],
   "source": [
    "import pickle\n",
    "\n",
    "# Chargement du modèle de régression logistique\n",
    "with open('logreg_model.pkl', 'rb') as file:\n",
    "    loaded_logreg_model = pickle.load(file)\n",
    "\n",
    "# Chargement du modèle SVM\n",
    "with open('svm_model.pkl', 'rb') as file:\n",
    "    loaded_svm_model = pickle.load(file)\n",
    "\n",
    "# Chargement du vectoriseur TF-IDF\n",
    "with open('tfidf_vectorizer.pkl', 'rb') as file:\n",
    "    loaded_tfidf_vectorizer = pickle.load(file)"
   ]
  },
  {
   "cell_type": "code",
   "execution_count": 13,
   "id": "f55f380b",
   "metadata": {},
   "outputs": [
    {
     "name": "stdout",
     "output_type": "stream",
     "text": [
      "Enter your comment: you mother fucker, fuck you \n"
     ]
    },
    {
     "data": {
      "text/html": [
       "<div>\n",
       "<style scoped>\n",
       "    .dataframe tbody tr th:only-of-type {\n",
       "        vertical-align: middle;\n",
       "    }\n",
       "\n",
       "    .dataframe tbody tr th {\n",
       "        vertical-align: top;\n",
       "    }\n",
       "\n",
       "    .dataframe thead th {\n",
       "        text-align: right;\n",
       "    }\n",
       "</style>\n",
       "<table border=\"1\" class=\"dataframe\">\n",
       "  <thead>\n",
       "    <tr style=\"text-align: right;\">\n",
       "      <th></th>\n",
       "      <th>Category</th>\n",
       "      <th>Logistic Regression</th>\n",
       "      <th>SVM</th>\n",
       "    </tr>\n",
       "  </thead>\n",
       "  <tbody>\n",
       "    <tr>\n",
       "      <th>0</th>\n",
       "      <td>toxic</td>\n",
       "      <td>True</td>\n",
       "      <td>True</td>\n",
       "    </tr>\n",
       "    <tr>\n",
       "      <th>1</th>\n",
       "      <td>severe_toxic</td>\n",
       "      <td>True</td>\n",
       "      <td>True</td>\n",
       "    </tr>\n",
       "    <tr>\n",
       "      <th>2</th>\n",
       "      <td>obscene</td>\n",
       "      <td>True</td>\n",
       "      <td>True</td>\n",
       "    </tr>\n",
       "    <tr>\n",
       "      <th>3</th>\n",
       "      <td>threat</td>\n",
       "      <td>False</td>\n",
       "      <td>False</td>\n",
       "    </tr>\n",
       "    <tr>\n",
       "      <th>4</th>\n",
       "      <td>insult</td>\n",
       "      <td>True</td>\n",
       "      <td>True</td>\n",
       "    </tr>\n",
       "    <tr>\n",
       "      <th>5</th>\n",
       "      <td>identity_hate</td>\n",
       "      <td>False</td>\n",
       "      <td>False</td>\n",
       "    </tr>\n",
       "  </tbody>\n",
       "</table>\n",
       "</div>"
      ],
      "text/plain": [
       "        Category  Logistic Regression    SVM\n",
       "0          toxic                 True   True\n",
       "1   severe_toxic                 True   True\n",
       "2        obscene                 True   True\n",
       "3         threat                False  False\n",
       "4         insult                 True   True\n",
       "5  identity_hate                False  False"
      ]
     },
     "execution_count": 13,
     "metadata": {},
     "output_type": "execute_result"
    }
   ],
   "source": [
    "def classify_comment_into_df(tfidf_vectorizer, logreg_model, svm_model, categories):\n",
    "    # Taking user input for the comment\n",
    "    comment = input(\"Enter your comment: \")\n",
    "\n",
    "    # Preprocessing the input comment using the same TF-IDF vectorizer\n",
    "    processed_comment = tfidf_vectorizer.transform([comment])\n",
    "\n",
    "    # Applying the trained models to the processed comment\n",
    "    pred_logreg = logreg_model.predict(processed_comment)\n",
    "    pred_svm = svm_model.predict(processed_comment)\n",
    "\n",
    "    # Creating a DataFrame for the predictions\n",
    "    data = []\n",
    "    for category, pred_lr, pred_svm in zip(categories, pred_logreg[0], pred_svm[0]):\n",
    "        data.append({'Category': category, \n",
    "                     'Logistic Regression': bool(pred_lr), \n",
    "                     'SVM': bool(pred_svm)})\n",
    "\n",
    "    predictions_df = pd.DataFrame(data)\n",
    "    return predictions_df\n",
    "\n",
    "# Example usage of the function\n",
    "categories = y.columns  # The categories of toxicity\n",
    "\n",
    "predictions_df = classify_comment_into_df(loaded_tfidf_vectorizer, loaded_logreg_model, loaded_svm_model, categories)\n",
    "predictions_df"
   ]
  }
 ],
 "metadata": {
  "kernelspec": {
   "display_name": "Python 3 (ipykernel)",
   "language": "python",
   "name": "python3"
  },
  "language_info": {
   "codemirror_mode": {
    "name": "ipython",
    "version": 3
   },
   "file_extension": ".py",
   "mimetype": "text/x-python",
   "name": "python",
   "nbconvert_exporter": "python",
   "pygments_lexer": "ipython3",
   "version": "3.10.9"
  }
 },
 "nbformat": 4,
 "nbformat_minor": 5
}
