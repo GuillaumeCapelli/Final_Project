{
 "cells": [
  {
   "cell_type": "code",
   "execution_count": 2,
   "id": "93356150",
   "metadata": {},
   "outputs": [],
   "source": [
    "import pandas as pd\n",
    "import matplotlib.pyplot as plt\n",
    "import seaborn as sns\n",
    "import os"
   ]
  },
  {
   "cell_type": "code",
   "execution_count": 4,
   "id": "287fc13b",
   "metadata": {},
   "outputs": [
    {
     "data": {
      "text/html": [
       "<div>\n",
       "<style scoped>\n",
       "    .dataframe tbody tr th:only-of-type {\n",
       "        vertical-align: middle;\n",
       "    }\n",
       "\n",
       "    .dataframe tbody tr th {\n",
       "        vertical-align: top;\n",
       "    }\n",
       "\n",
       "    .dataframe thead th {\n",
       "        text-align: right;\n",
       "    }\n",
       "</style>\n",
       "<table border=\"1\" class=\"dataframe\">\n",
       "  <thead>\n",
       "    <tr style=\"text-align: right;\">\n",
       "      <th></th>\n",
       "      <th>text</th>\n",
       "      <th>author</th>\n",
       "      <th>timestamp</th>\n",
       "      <th>type</th>\n",
       "    </tr>\n",
       "  </thead>\n",
       "  <tbody>\n",
       "    <tr>\n",
       "      <th>0</th>\n",
       "      <td>&amp;gt; That isn&amp;#x27;t really the point. The poi...</td>\n",
       "      <td>ardy42</td>\n",
       "      <td>2020-07-23 20:05:04+00:00</td>\n",
       "      <td>comment</td>\n",
       "    </tr>\n",
       "    <tr>\n",
       "      <th>1</th>\n",
       "      <td>One of the primary traits of a good developer ...</td>\n",
       "      <td>semiel</td>\n",
       "      <td>2013-07-16 21:07:12+00:00</td>\n",
       "      <td>comment</td>\n",
       "    </tr>\n",
       "    <tr>\n",
       "      <th>2</th>\n",
       "      <td>After feeling very down, so much that I didn&amp;#...</td>\n",
       "      <td>Raphmedia</td>\n",
       "      <td>2016-01-26 15:03:03+00:00</td>\n",
       "      <td>comment</td>\n",
       "    </tr>\n",
       "    <tr>\n",
       "      <th>3</th>\n",
       "      <td>First, you asserted that it was wrong for Part...</td>\n",
       "      <td>jamiequint</td>\n",
       "      <td>2008-12-20 06:22:55+00:00</td>\n",
       "      <td>comment</td>\n",
       "    </tr>\n",
       "    <tr>\n",
       "      <th>4</th>\n",
       "      <td>IP matching, supercookies, browser fingerprint...</td>\n",
       "      <td>orangecat</td>\n",
       "      <td>2011-05-06 17:28:33+00:00</td>\n",
       "      <td>comment</td>\n",
       "    </tr>\n",
       "    <tr>\n",
       "      <th>...</th>\n",
       "      <td>...</td>\n",
       "      <td>...</td>\n",
       "      <td>...</td>\n",
       "      <td>...</td>\n",
       "    </tr>\n",
       "    <tr>\n",
       "      <th>2995</th>\n",
       "      <td>&amp;gt; You don&amp;#x27;t understand that many peopl...</td>\n",
       "      <td>pault</td>\n",
       "      <td>2019-02-22 16:39:07+00:00</td>\n",
       "      <td>comment</td>\n",
       "    </tr>\n",
       "    <tr>\n",
       "      <th>2996</th>\n",
       "      <td>Intuitively, that makes sense.  However, I wou...</td>\n",
       "      <td>taeric</td>\n",
       "      <td>2018-08-22 13:51:23+00:00</td>\n",
       "      <td>comment</td>\n",
       "    </tr>\n",
       "    <tr>\n",
       "      <th>2997</th>\n",
       "      <td>gitin is easy to use to quickly check the stat...</td>\n",
       "      <td>mekster</td>\n",
       "      <td>2020-05-31 19:50:31+00:00</td>\n",
       "      <td>comment</td>\n",
       "    </tr>\n",
       "    <tr>\n",
       "      <th>2998</th>\n",
       "      <td>This is a good point that I hadn&amp;#x27;t realis...</td>\n",
       "      <td>frobozz</td>\n",
       "      <td>2015-08-10 16:05:04+00:00</td>\n",
       "      <td>comment</td>\n",
       "    </tr>\n",
       "    <tr>\n",
       "      <th>2999</th>\n",
       "      <td>Looks awesome and exactly what I needed. Will ...</td>\n",
       "      <td>moltar</td>\n",
       "      <td>2020-09-04 14:11:34+00:00</td>\n",
       "      <td>comment</td>\n",
       "    </tr>\n",
       "  </tbody>\n",
       "</table>\n",
       "<p>3000 rows × 4 columns</p>\n",
       "</div>"
      ],
      "text/plain": [
       "                                                   text      author  \\\n",
       "0     &gt; That isn&#x27;t really the point. The poi...      ardy42   \n",
       "1     One of the primary traits of a good developer ...      semiel   \n",
       "2     After feeling very down, so much that I didn&#...   Raphmedia   \n",
       "3     First, you asserted that it was wrong for Part...  jamiequint   \n",
       "4     IP matching, supercookies, browser fingerprint...   orangecat   \n",
       "...                                                 ...         ...   \n",
       "2995  &gt; You don&#x27;t understand that many peopl...       pault   \n",
       "2996  Intuitively, that makes sense.  However, I wou...      taeric   \n",
       "2997  gitin is easy to use to quickly check the stat...     mekster   \n",
       "2998  This is a good point that I hadn&#x27;t realis...     frobozz   \n",
       "2999  Looks awesome and exactly what I needed. Will ...      moltar   \n",
       "\n",
       "                      timestamp     type  \n",
       "0     2020-07-23 20:05:04+00:00  comment  \n",
       "1     2013-07-16 21:07:12+00:00  comment  \n",
       "2     2016-01-26 15:03:03+00:00  comment  \n",
       "3     2008-12-20 06:22:55+00:00  comment  \n",
       "4     2011-05-06 17:28:33+00:00  comment  \n",
       "...                         ...      ...  \n",
       "2995  2019-02-22 16:39:07+00:00  comment  \n",
       "2996  2018-08-22 13:51:23+00:00  comment  \n",
       "2997  2020-05-31 19:50:31+00:00  comment  \n",
       "2998  2015-08-10 16:05:04+00:00  comment  \n",
       "2999  2020-09-04 14:11:34+00:00  comment  \n",
       "\n",
       "[3000 rows x 4 columns]"
      ]
     },
     "execution_count": 4,
     "metadata": {},
     "output_type": "execute_result"
    }
   ],
   "source": [
    "# Set the working directory\n",
    "os.chdir(r'C:\\Users\\Guillaume\\Desktop\\Ironhack_189\\Final_Project')\n",
    "\n",
    "# Load the data\n",
    "file_path = r'Dataset\\Big_Query_GCP\\hacker_news_sample.csv'\n",
    "hn_sample  = pd.read_csv(file_path)\n",
    "hn_sample "
   ]
  },
  {
   "cell_type": "code",
   "execution_count": 5,
   "id": "d4d98c97",
   "metadata": {},
   "outputs": [
    {
     "data": {
      "text/plain": [
       "text         0\n",
       "author       0\n",
       "timestamp    0\n",
       "type         0\n",
       "dtype: int64"
      ]
     },
     "execution_count": 5,
     "metadata": {},
     "output_type": "execute_result"
    }
   ],
   "source": [
    "# Check for missing values in all columns.\n",
    "hn_sample.isnull().sum()"
   ]
  },
  {
   "cell_type": "code",
   "execution_count": 6,
   "id": "e2076db9",
   "metadata": {},
   "outputs": [
    {
     "data": {
      "text/plain": [
       "0"
      ]
     },
     "execution_count": 6,
     "metadata": {},
     "output_type": "execute_result"
    }
   ],
   "source": [
    "hn_sample .duplicated().sum()"
   ]
  },
  {
   "cell_type": "code",
   "execution_count": 7,
   "id": "a4653732",
   "metadata": {},
   "outputs": [
    {
     "data": {
      "text/plain": [
       "0      2020-07-23 20:05:04+00:00\n",
       "1      2013-07-16 21:07:12+00:00\n",
       "2      2016-01-26 15:03:03+00:00\n",
       "3      2008-12-20 06:22:55+00:00\n",
       "4      2011-05-06 17:28:33+00:00\n",
       "                  ...           \n",
       "2995   2019-02-22 16:39:07+00:00\n",
       "2996   2018-08-22 13:51:23+00:00\n",
       "2997   2020-05-31 19:50:31+00:00\n",
       "2998   2015-08-10 16:05:04+00:00\n",
       "2999   2020-09-04 14:11:34+00:00\n",
       "Name: timestamp, Length: 3000, dtype: datetime64[ns, UTC]"
      ]
     },
     "execution_count": 7,
     "metadata": {},
     "output_type": "execute_result"
    }
   ],
   "source": [
    "hn_sample['timestamp'] = pd.to_datetime(hn_sample['timestamp'], errors='coerce')  # 'coerce' will set invalid parsing as NaT\n",
    "hn_sample['timestamp']"
   ]
  },
  {
   "cell_type": "code",
   "execution_count": 8,
   "id": "eb7d2331",
   "metadata": {},
   "outputs": [
    {
     "data": {
      "text/plain": [
       "array(['comment', 'story', 'pollopt'], dtype=object)"
      ]
     },
     "execution_count": 8,
     "metadata": {},
     "output_type": "execute_result"
    }
   ],
   "source": [
    "hn_sample['type'].unique()"
   ]
  },
  {
   "cell_type": "code",
   "execution_count": 13,
   "id": "2f3842e5",
   "metadata": {},
   "outputs": [
    {
     "data": {
      "text/html": [
       "<div>\n",
       "<style scoped>\n",
       "    .dataframe tbody tr th:only-of-type {\n",
       "        vertical-align: middle;\n",
       "    }\n",
       "\n",
       "    .dataframe tbody tr th {\n",
       "        vertical-align: top;\n",
       "    }\n",
       "\n",
       "    .dataframe thead th {\n",
       "        text-align: right;\n",
       "    }\n",
       "</style>\n",
       "<table border=\"1\" class=\"dataframe\">\n",
       "  <thead>\n",
       "    <tr style=\"text-align: right;\">\n",
       "      <th></th>\n",
       "      <th>comment</th>\n",
       "      <th>username</th>\n",
       "      <th>date</th>\n",
       "      <th>like</th>\n",
       "    </tr>\n",
       "  </thead>\n",
       "  <tbody>\n",
       "    <tr>\n",
       "      <th>0</th>\n",
       "      <td>&amp;gt; That isn&amp;#x27;t really the point. The poi...</td>\n",
       "      <td>ardy42</td>\n",
       "      <td>2020-07-23 20:05:04+00:00</td>\n",
       "      <td>0</td>\n",
       "    </tr>\n",
       "    <tr>\n",
       "      <th>1</th>\n",
       "      <td>One of the primary traits of a good developer ...</td>\n",
       "      <td>semiel</td>\n",
       "      <td>2013-07-16 21:07:12+00:00</td>\n",
       "      <td>0</td>\n",
       "    </tr>\n",
       "    <tr>\n",
       "      <th>2</th>\n",
       "      <td>After feeling very down, so much that I didn&amp;#...</td>\n",
       "      <td>Raphmedia</td>\n",
       "      <td>2016-01-26 15:03:03+00:00</td>\n",
       "      <td>0</td>\n",
       "    </tr>\n",
       "    <tr>\n",
       "      <th>3</th>\n",
       "      <td>First, you asserted that it was wrong for Part...</td>\n",
       "      <td>jamiequint</td>\n",
       "      <td>2008-12-20 06:22:55+00:00</td>\n",
       "      <td>0</td>\n",
       "    </tr>\n",
       "    <tr>\n",
       "      <th>4</th>\n",
       "      <td>IP matching, supercookies, browser fingerprint...</td>\n",
       "      <td>orangecat</td>\n",
       "      <td>2011-05-06 17:28:33+00:00</td>\n",
       "      <td>0</td>\n",
       "    </tr>\n",
       "  </tbody>\n",
       "</table>\n",
       "</div>"
      ],
      "text/plain": [
       "                                             comment    username  \\\n",
       "0  &gt; That isn&#x27;t really the point. The poi...      ardy42   \n",
       "1  One of the primary traits of a good developer ...      semiel   \n",
       "2  After feeling very down, so much that I didn&#...   Raphmedia   \n",
       "3  First, you asserted that it was wrong for Part...  jamiequint   \n",
       "4  IP matching, supercookies, browser fingerprint...   orangecat   \n",
       "\n",
       "                       date  like  \n",
       "0 2020-07-23 20:05:04+00:00     0  \n",
       "1 2013-07-16 21:07:12+00:00     0  \n",
       "2 2016-01-26 15:03:03+00:00     0  \n",
       "3 2008-12-20 06:22:55+00:00     0  \n",
       "4 2011-05-06 17:28:33+00:00     0  "
      ]
     },
     "execution_count": 13,
     "metadata": {},
     "output_type": "execute_result"
    }
   ],
   "source": [
    "# Renaming the specified columns\n",
    "hn_sample_renamed = hn_sample.rename(columns={'text': 'comment', 'author': 'username', 'timestamp': 'date'})\n",
    "\n",
    "# Dropping the 'type' column\n",
    "hn_sample_renamed = hn_sample_renamed.drop('type', axis=1)\n",
    "\n",
    "# Adding a new 'like' column with all values set to 0\n",
    "hn_sample_renamed['like'] = 0\n",
    "\n",
    "# Displaying the first few rows of the updated dataframe\n",
    "hn_sample_renamed.head()\n"
   ]
  },
  {
   "cell_type": "code",
   "execution_count": 14,
   "id": "f87afd1a",
   "metadata": {},
   "outputs": [
    {
     "name": "stdout",
     "output_type": "stream",
     "text": [
      "<class 'pandas.core.frame.DataFrame'>\n",
      "RangeIndex: 3000 entries, 0 to 2999\n",
      "Data columns (total 4 columns):\n",
      " #   Column    Non-Null Count  Dtype              \n",
      "---  ------    --------------  -----              \n",
      " 0   comment   3000 non-null   object             \n",
      " 1   username  3000 non-null   object             \n",
      " 2   date      3000 non-null   datetime64[ns, UTC]\n",
      " 3   like      3000 non-null   int64              \n",
      "dtypes: datetime64[ns, UTC](1), int64(1), object(2)\n",
      "memory usage: 93.9+ KB\n"
     ]
    }
   ],
   "source": [
    "hn_sample_renamed.info()"
   ]
  },
  {
   "cell_type": "code",
   "execution_count": 16,
   "id": "d0b8d424",
   "metadata": {},
   "outputs": [
    {
     "data": {
      "text/plain": [
       "2684"
      ]
     },
     "execution_count": 16,
     "metadata": {},
     "output_type": "execute_result"
    }
   ],
   "source": [
    "unique_usernames = hn_sample_renamed['username'].nunique()\n",
    "unique_usernames"
   ]
  },
  {
   "cell_type": "code",
   "execution_count": 17,
   "id": "e6f640d6",
   "metadata": {},
   "outputs": [
    {
     "data": {
      "text/plain": [
       "min   2007-07-18 20:10:12+00:00\n",
       "max   2022-11-16 06:12:48+00:00\n",
       "Name: date, dtype: datetime64[ns, UTC]"
      ]
     },
     "execution_count": 17,
     "metadata": {},
     "output_type": "execute_result"
    }
   ],
   "source": [
    "time_range = hn_sample_renamed['date'].agg(['min', 'max'])\n",
    "time_range"
   ]
  },
  {
   "cell_type": "code",
   "execution_count": 19,
   "id": "22f7dceb",
   "metadata": {},
   "outputs": [
    {
     "name": "stderr",
     "output_type": "stream",
     "text": [
      "C:\\Users\\Guillaume\\AppData\\Local\\Temp\\ipykernel_2408\\3529792487.py:1: UserWarning: Converting to PeriodArray/Index representation will drop timezone information.\n",
      "  posting_frequency = hn_sample_renamed.groupby(hn_sample_renamed['date'].dt.to_period('D')).count()['comment']\n"
     ]
    }
   ],
   "source": [
    "posting_frequency = hn_sample_renamed.groupby(hn_sample_renamed['date'].dt.to_period('D')).count()['comment']"
   ]
  },
  {
   "cell_type": "code",
   "execution_count": null,
   "id": "0fc8420f",
   "metadata": {},
   "outputs": [],
   "source": []
  },
  {
   "cell_type": "code",
   "execution_count": null,
   "id": "7f44b575",
   "metadata": {},
   "outputs": [],
   "source": []
  }
 ],
 "metadata": {
  "kernelspec": {
   "display_name": "Python 3 (ipykernel)",
   "language": "python",
   "name": "python3"
  },
  "language_info": {
   "codemirror_mode": {
    "name": "ipython",
    "version": 3
   },
   "file_extension": ".py",
   "mimetype": "text/x-python",
   "name": "python",
   "nbconvert_exporter": "python",
   "pygments_lexer": "ipython3",
   "version": "3.10.9"
  }
 },
 "nbformat": 4,
 "nbformat_minor": 5
}
